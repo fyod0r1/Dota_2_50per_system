{
 "cells": [
  {
   "cell_type": "markdown",
   "id": "8b1bfaf1",
   "metadata": {},
   "source": [
    "# Система 50%. \n",
    "## Введение и основные понятия\n",
    "&emsp; В комьюнити игры Dota 2 существует теория о нечестном подборе игроков в рейтинговых играх. Некоторые игроки предполагают, что специальная система, называемая \"система 50%\" подбирает игроков в матч таким образом, чтобы сбалансировать команды.\n",
    " \n",
    "&emsp; Если игрок играет слишком хорошо, ему в команду попадутся те кто играет плохо, так ему будет сложнее поднять себе рейтинг и он больше времени проведет в игре, идя  к своей цели.\n",
    "\n",
    "&emsp; Один из индикаторов этой системы, по мнению игроков, зависимость между серией побед и поражений. Идея заключается в том, что система определяет игрока победившего много раз подряд как сильного, и начинает подбирать ему слабых игроков (по мнению системы) в команду, а противникам сильных (с учетом их рейтинга, а именно сохраняя баланс по этому показателю), из-за чего после серии побед игрока ждет серия поражений.\n",
    "\n",
    "&emsp; В данном исследование я решил статистически првоерить эту гипотезу, по большей части оспаривая тезис о наличии взаимосвязей между серией побед и серий поражений.\n",
    "\n",
    "> *Match making rating (MMR/рейтинг) - публичный игровой показатель определяющий силу конкретного игра. Используется для подбора команд равного уровня силы в Dota 2*\n",
    "\n",
    "> *Серия побед/поражений - результат исхода нескольких матчей идущих подряд, когда игрок либо выиграл все эти матчи либо проиграл*\n"
   ]
  },
  {
   "cell_type": "markdown",
   "id": "7697493f",
   "metadata": {},
   "source": [
    "## Сбор статистики. Методология. \n",
    "\n",
    "&emsp; Для данного исследования я собирал статистику используя бесплатное api ресурса https:www.opendota.com\n",
    "\n",
    "&emsp; Так как количество запросов к базе данных на бесплатной версии ограничено 60-тью запросами в минуту я использовал python и библиотеку sqlite чтобы сохранить нужные мне данные в собственную БД. Все скрипты находятся в папке проекта с соответствующими комментариями.\n",
    "\n",
    "&emsp; Вероятно я использовал возможности данного ресурса не идеально, в любом случае моя методология по сбору статистика имеета вид:\n",
    "\n",
    "1. Я выбрал случайный айди недавно сыгранного матча (на момент сбора статистики).\n",
    "2. После я начал собирать базу игроков с открытыми аккаунтами (чья статистика доступна). Я просматривал все матчи по порядку, по в убывающему айди. Я записывал айди игроков принявших участия в этом матче, пока количество игроков (их айди) в моей базе данных не достигло 10 000. Также я записывал MMR игроков (на момент сбора данных).\n",
    "3. Для каждого игрока я выгрузил список последних 100 сыгранных рейтинговых матчей, определяя, выиграл ли игрок этот матч или проиграл (но количество этих матчей могло быть и меньше 100, если игрок не сыграл достаточное количество матчей).\n",
    "4. В результирующую выборку попали игроки чье количество сыгранных рейтинговых матчей превышало 100 игр. \n",
    "5. У небольшой части игроков количество записанных матчей оказалось выше 100 на несколько матчей, это объясняется тем, что мой скрипт периодически прекращал исполнение из-за бага который я не мог устранить, из-за чего по некоторым айди я выполнял запросы несколько раз, и новые сыгранные игры записывались к старым. Дублирование строк при записи в базу данных я исключил.\n",
    "6. Размер итоговой выборки составил 2606 игроков.\n"
   ]
  },
  {
   "cell_type": "markdown",
   "id": "13996975",
   "metadata": {},
   "source": [
    "## Проблемы полученной выборки и искажение данных.\n",
    "\n",
    "&emsp; Очевидно, что мои данные подверглись довольно большому количеству критериев. Полученная выборка не отражает в полной мере генеральную совокупность всех игроков играющих в рейтинговом режиме. Поэтому я делаю следующее допущение: При наличии \"системы 50%\" ее влияние будет отражено в полученной мной выборке. \n",
    "\n",
    "&emsp; Кроме того, на полученных мною данных (как в результирующей выборке из 2606 игроков так и в выборке из 10 000 игроков), средний винрейт игроков составил 45% вместо ожидаемых 50%. В **среднем** игроки в соревновательную игру не могут проигрывать чаще чем выигрывать. Очевидно что мои данные оказались искажены, что будет учтено дальше. \n",
    "\n",
    "&emsp; В конечном итоге я решил использовать полученную выборку с **смещенным** винрейтом, вместо того чтобы подгонять ее под 50% винрейт (что на мой взгляд оказалось бы еще большим искажением данных). Данное искажение имеет несколько возможных объяснений, но что именно является причиной для меня не является возможным определить и устранить. \n",
    "\n",
    "&emsp; Давайте еще раз отметим критерии которым должны были удовлетворять наши данные, чтобы попасть в результирующую выборку:\n",
    "\n",
    "1. Игрок должен обладать публичным аккаунтом\n",
    "2. Рассматриваются только рейтинговые игры\n",
    "3. Игрок сыграл более 100 рейтинговых матчей\n",
    "4. Игрок был активен в последнее время (на момент сбора статистики)\n",
    "6. В результирующую выборку попали последнии 100 (иногда несколько больше) рейтинговых матчей игрока\n",
    "5. Для сбора статистики я использовал ресурс OpenDota, а так же написал свой код, позволяющий сохранить мне данные в собственную базу данных на моем компьютере. \n",
    "\n",
    "&emsp; Не смотря на все эти требование, я считаю, что с учетом сделанного мной допущения и метода проверки гипотез можно считать полученную выборку репрезентативной (в данном случае).\n",
    "\n",
    "> *Некоторые условия дублируют друг друга. Это сделано для ясности и отражения этапов формирования результирующей выборки*\n"
   ]
  },
  {
   "cell_type": "markdown",
   "id": "97c82372",
   "metadata": {},
   "source": [
    "## Общая концепция исследования\n",
    "\n",
    "&emsp; В данном исследовании я хочу сравнить распределение серий побед и поражений в реальных играх с их теоретической моделью. Теоретическая модель подразумевает, что в среднем игрок побеждает в конкретной игре с определенной постоянной вероятностью, которая не меняется в зависимости от количества сыгранных игр. \n",
    "\n",
    "&emsp; Система рейтингового подбора игр устроена в Dota таким образом, что игроку требуется большое количество игр, чтобы значительно изменить свой MMR и повлиять на подбор игроков в рейтинговых матчах. Кроме того, это командная игра в которой влияние отдельно взятого игрока весьма ограничено, а его вклад в победу собственной команды зависит от множества случайных факторов. \n",
    "\n",
    "&emsp; Лишь небольшой процент игроков имеет сильно положительный винрейт, за счет обмана подбора игры (игра на рейтинге сильно ниже того, что соответствует реальным способностям игрока; использование чужих или новых аккаунтов). В такой теоретической модели распределение длины серии будет соответствовать распределению Пуассона.\n"
   ]
  },
  {
   "cell_type": "markdown",
   "id": "9704c05b",
   "metadata": {},
   "source": [
    "## Импорт библиотек, данных, моделирование теоритической выборки"
   ]
  },
  {
   "cell_type": "code",
   "execution_count": 1,
   "id": "9b0e3da6",
   "metadata": {},
   "outputs": [],
   "source": [
    "import pandas as pd\n",
    "import matplotlib as mpl\n",
    "import sql_data_base_functions as sql_fun\n",
    "import random\n",
    "import jupyter_utils as jpu\n",
    "import math\n",
    "from scipy.stats import ttest_ind\n",
    "from scipy.stats import mannwhitneyu\n",
    "from scipy.stats import probplot\n",
    "import seaborn as sns"
   ]
  },
  {
   "cell_type": "code",
   "execution_count": 2,
   "id": "6ceb3807",
   "metadata": {},
   "outputs": [],
   "source": [
    "# функции для определения длины серии для каждой игры из нашей выборке, с разделением игр по игрокам\n",
    "\n",
    "def make_groups(df):\n",
    "    group = -1\n",
    "    buf = -1\n",
    "    groups = []\n",
    "    # создаем уникальных групп для каждого отдельной серии побед или поражений\n",
    "    for row in df.itertuples():\n",
    "        if buf == row.win_or_loose:\n",
    "            groups.append(group)  \n",
    "        else:\n",
    "            group += 1\n",
    "            groups.append(group)\n",
    "            buf = row.win_or_loose\n",
    "    df['group'] = groups\n",
    "    return df\n",
    "\n",
    "def calc_streak(main_df):\n",
    "    # подсчитываем для каждой игры длину серии к которой эта игра принадлежит\n",
    "    gdf = main_df.groupby('player_id').apply(lambda df: make_groups(df))\n",
    "    return gdf.groupby('player_id').apply(lambda df: df['group'].map(lambda g: df['group'].value_counts()[g])).reset_index()['group']"
   ]
  },
  {
   "cell_type": "code",
   "execution_count": 3,
   "id": "f5cfe76d",
   "metadata": {},
   "outputs": [
    {
     "data": {
      "text/html": [
       "<div>\n",
       "<style scoped>\n",
       "    .dataframe tbody tr th:only-of-type {\n",
       "        vertical-align: middle;\n",
       "    }\n",
       "\n",
       "    .dataframe tbody tr th {\n",
       "        vertical-align: top;\n",
       "    }\n",
       "\n",
       "    .dataframe thead th {\n",
       "        text-align: right;\n",
       "    }\n",
       "</style>\n",
       "<table border=\"1\" class=\"dataframe\">\n",
       "  <thead>\n",
       "    <tr style=\"text-align: right;\">\n",
       "      <th></th>\n",
       "      <th>player_id</th>\n",
       "      <th>win_or_loose</th>\n",
       "    </tr>\n",
       "  </thead>\n",
       "  <tbody>\n",
       "    <tr>\n",
       "      <th>0</th>\n",
       "      <td>43325</td>\n",
       "      <td>0</td>\n",
       "    </tr>\n",
       "    <tr>\n",
       "      <th>1</th>\n",
       "      <td>43325</td>\n",
       "      <td>0</td>\n",
       "    </tr>\n",
       "    <tr>\n",
       "      <th>2</th>\n",
       "      <td>43325</td>\n",
       "      <td>1</td>\n",
       "    </tr>\n",
       "    <tr>\n",
       "      <th>3</th>\n",
       "      <td>43325</td>\n",
       "      <td>0</td>\n",
       "    </tr>\n",
       "    <tr>\n",
       "      <th>4</th>\n",
       "      <td>43325</td>\n",
       "      <td>0</td>\n",
       "    </tr>\n",
       "  </tbody>\n",
       "</table>\n",
       "</div>"
      ],
      "text/plain": [
       "   player_id  win_or_loose\n",
       "0      43325             0\n",
       "1      43325             0\n",
       "2      43325             1\n",
       "3      43325             0\n",
       "4      43325             0"
      ]
     },
     "execution_count": 3,
     "metadata": {},
     "output_type": "execute_result"
    }
   ],
   "source": [
    "# загрузим данные о наших игр из нашей базы данных\n",
    "real_games = sql_fun.win_and_loose_by_player()\n",
    "real_games = pd.DataFrame(real_games, columns=['player_id', 'win_or_loose'])\n",
    "real_games.head()"
   ]
  },
  {
   "cell_type": "code",
   "execution_count": 4,
   "id": "42c82171",
   "metadata": {},
   "outputs": [
    {
     "data": {
      "text/html": [
       "<div>\n",
       "<style scoped>\n",
       "    .dataframe tbody tr th:only-of-type {\n",
       "        vertical-align: middle;\n",
       "    }\n",
       "\n",
       "    .dataframe tbody tr th {\n",
       "        vertical-align: top;\n",
       "    }\n",
       "\n",
       "    .dataframe thead th {\n",
       "        text-align: right;\n",
       "    }\n",
       "</style>\n",
       "<table border=\"1\" class=\"dataframe\">\n",
       "  <thead>\n",
       "    <tr style=\"text-align: right;\">\n",
       "      <th></th>\n",
       "      <th>win_or_loose</th>\n",
       "      <th>player_id</th>\n",
       "    </tr>\n",
       "  </thead>\n",
       "  <tbody>\n",
       "    <tr>\n",
       "      <th>0</th>\n",
       "      <td>1</td>\n",
       "      <td>0</td>\n",
       "    </tr>\n",
       "    <tr>\n",
       "      <th>1</th>\n",
       "      <td>1</td>\n",
       "      <td>0</td>\n",
       "    </tr>\n",
       "    <tr>\n",
       "      <th>2</th>\n",
       "      <td>0</td>\n",
       "      <td>0</td>\n",
       "    </tr>\n",
       "    <tr>\n",
       "      <th>3</th>\n",
       "      <td>1</td>\n",
       "      <td>0</td>\n",
       "    </tr>\n",
       "    <tr>\n",
       "      <th>4</th>\n",
       "      <td>0</td>\n",
       "      <td>0</td>\n",
       "    </tr>\n",
       "  </tbody>\n",
       "</table>\n",
       "</div>"
      ],
      "text/plain": [
       "   win_or_loose  player_id\n",
       "0             1          0\n",
       "1             1          0\n",
       "2             0          0\n",
       "3             1          0\n",
       "4             0          0"
      ]
     },
     "execution_count": 4,
     "metadata": {},
     "output_type": "execute_result"
    }
   ],
   "source": [
    "# установим количество игр в нашей теоретической выборке равное количеству игр в реальной выборке\n",
    "games_count = real_games.count().player_id\n",
    "# вероятность победить в игре соответствует среднему винрейту в нашей результирующей выборке в промилях\n",
    "winrate = real_games['win_or_loose'].where(real_games['win_or_loose'] == 1).count() / real_games['win_or_loose'].count() \n",
    "winrate = int(winrate * 1000)\n",
    "# смоделируем нашу теоретическую выборку, случайным образом определяя победил игрок или проиграл в конкретной игре\n",
    "theory_games = pd.DataFrame({'win_or_loose': [1 if winrate > random.randint(0, 1000) else 0 for i in range(games_count)]})\n",
    "# присвоим каждой из игр уникальный айди игрока, по аналогии с реальной выборкой\n",
    "theory_games['player_id'] = theory_games.index.map(lambda ind: divmod(ind, 100)[0])\n",
    "theory_games.head()"
   ]
  },
  {
   "cell_type": "code",
   "execution_count": 5,
   "id": "4047aad5",
   "metadata": {
    "scrolled": false
   },
   "outputs": [
    {
     "data": {
      "text/plain": [
       "0       100\n",
       "1       100\n",
       "2       100\n",
       "3       100\n",
       "4       100\n",
       "       ... \n",
       "2602    100\n",
       "2603    100\n",
       "2604    100\n",
       "2605    100\n",
       "2606     58\n",
       "Name: player_id, Length: 2607, dtype: int64"
      ]
     },
     "execution_count": 5,
     "metadata": {},
     "output_type": "execute_result"
    }
   ],
   "source": [
    "theory_games['player_id'].value_counts().sort_index()"
   ]
  },
  {
   "cell_type": "code",
   "execution_count": 6,
   "id": "89bc9b12",
   "metadata": {},
   "outputs": [
    {
     "data": {
      "text/html": [
       "<div>\n",
       "<style scoped>\n",
       "    .dataframe tbody tr th:only-of-type {\n",
       "        vertical-align: middle;\n",
       "    }\n",
       "\n",
       "    .dataframe tbody tr th {\n",
       "        vertical-align: top;\n",
       "    }\n",
       "\n",
       "    .dataframe thead th {\n",
       "        text-align: right;\n",
       "    }\n",
       "</style>\n",
       "<table border=\"1\" class=\"dataframe\">\n",
       "  <thead>\n",
       "    <tr style=\"text-align: right;\">\n",
       "      <th></th>\n",
       "      <th>win_or_loose</th>\n",
       "      <th>player_id</th>\n",
       "      <th>streak</th>\n",
       "    </tr>\n",
       "  </thead>\n",
       "  <tbody>\n",
       "    <tr>\n",
       "      <th>0</th>\n",
       "      <td>1</td>\n",
       "      <td>0</td>\n",
       "      <td>2</td>\n",
       "    </tr>\n",
       "    <tr>\n",
       "      <th>1</th>\n",
       "      <td>1</td>\n",
       "      <td>0</td>\n",
       "      <td>2</td>\n",
       "    </tr>\n",
       "    <tr>\n",
       "      <th>2</th>\n",
       "      <td>0</td>\n",
       "      <td>0</td>\n",
       "      <td>1</td>\n",
       "    </tr>\n",
       "    <tr>\n",
       "      <th>3</th>\n",
       "      <td>1</td>\n",
       "      <td>0</td>\n",
       "      <td>1</td>\n",
       "    </tr>\n",
       "    <tr>\n",
       "      <th>4</th>\n",
       "      <td>0</td>\n",
       "      <td>0</td>\n",
       "      <td>3</td>\n",
       "    </tr>\n",
       "    <tr>\n",
       "      <th>...</th>\n",
       "      <td>...</td>\n",
       "      <td>...</td>\n",
       "      <td>...</td>\n",
       "    </tr>\n",
       "    <tr>\n",
       "      <th>260653</th>\n",
       "      <td>0</td>\n",
       "      <td>2606</td>\n",
       "      <td>5</td>\n",
       "    </tr>\n",
       "    <tr>\n",
       "      <th>260654</th>\n",
       "      <td>0</td>\n",
       "      <td>2606</td>\n",
       "      <td>5</td>\n",
       "    </tr>\n",
       "    <tr>\n",
       "      <th>260655</th>\n",
       "      <td>0</td>\n",
       "      <td>2606</td>\n",
       "      <td>5</td>\n",
       "    </tr>\n",
       "    <tr>\n",
       "      <th>260656</th>\n",
       "      <td>1</td>\n",
       "      <td>2606</td>\n",
       "      <td>1</td>\n",
       "    </tr>\n",
       "    <tr>\n",
       "      <th>260657</th>\n",
       "      <td>0</td>\n",
       "      <td>2606</td>\n",
       "      <td>1</td>\n",
       "    </tr>\n",
       "  </tbody>\n",
       "</table>\n",
       "<p>260658 rows × 3 columns</p>\n",
       "</div>"
      ],
      "text/plain": [
       "        win_or_loose  player_id  streak\n",
       "0                  1          0       2\n",
       "1                  1          0       2\n",
       "2                  0          0       1\n",
       "3                  1          0       1\n",
       "4                  0          0       3\n",
       "...              ...        ...     ...\n",
       "260653             0       2606       5\n",
       "260654             0       2606       5\n",
       "260655             0       2606       5\n",
       "260656             1       2606       1\n",
       "260657             0       2606       1\n",
       "\n",
       "[260658 rows x 3 columns]"
      ]
     },
     "execution_count": 6,
     "metadata": {},
     "output_type": "execute_result"
    }
   ],
   "source": [
    "theory_games['streak'] = calc_streak(theory_games)\n",
    "theory_games"
   ]
  },
  {
   "cell_type": "code",
   "execution_count": 7,
   "id": "31a5af33",
   "metadata": {
    "scrolled": false
   },
   "outputs": [
    {
     "data": {
      "text/plain": [
       "<AxesSubplot:xlabel='streak lenght', ylabel='dist'>"
      ]
     },
     "execution_count": 7,
     "metadata": {},
     "output_type": "execute_result"
    },
    {
     "data": {
      "image/png": "[encoded data removed]",
      "text/plain": [
       "<Figure size 576x288 with 1 Axes>"
      ]
     },
     "metadata": {
      "needs_background": "light"
     },
     "output_type": "display_data"
    }
   ],
   "source": [
    "# рассмотрим распределение серии побед в нашей теоретической (смоделированной) выборке\n",
    "(theory_games['streak'].value_counts() / theory_games['streak'].count()).plot(xlabel='streak lenght', ylabel='dist', figsize=[8,4])"
   ]
  },
  {
   "cell_type": "markdown",
   "id": "e9cf6499",
   "metadata": {},
   "source": [
    "&emsp; Смоделированное распределение имеет вид распределения Пуассона, где средний винрейт игроков это среднее количество событий за фиксированный промежуток времени (одну игру), а количество событий равняется длине серии (т.е каждая точка обозначает вероятность выиграть все k игр при заданной L (лямбда) винрейте). \n",
    "> Кроме того, для нашего теоретического распределения будет справедлива ЦПТ.\n",
    "\n",
    "> *Винрейт - частное всех побед игрока ко всем играм на определенной выборке игр*\n"
   ]
  },
  {
   "cell_type": "markdown",
   "id": "72ae4300",
   "metadata": {},
   "source": [
    "## Статистические гипотезы\n",
    "\n",
    "&emsp; В таком случае:\n",
    "\n",
    "&emsp; **Нулевая гипотеза** - Распределение серии побед/поражений реальных игроков соответствует распределению Пуассона (каждая точка обозначает вероятность выиграть все k игр при заданной L (лямбда) среднем винрейте игроков в выборке). \n",
    "\n",
    "&emsp; **Альтернативная гипотеза** - Распределение серии побед/поражений реальных игроков не соответствует распределению Пуассона, или имеются значительные отклонения от теоретической выборке. (что может свидетельствовать о наличии \"системы 50%\")"
   ]
  },
  {
   "cell_type": "markdown",
   "id": "8ca3d2df",
   "metadata": {},
   "source": [
    "&emsp; Прежде чем начать использовать статистические тесты, вернемся к проблеме 45% винрейта. Можно ли считать нашу выборку репрезентативной при такой явной проблеме?"
   ]
  },
  {
   "cell_type": "code",
   "execution_count": 8,
   "id": "01f0d3f0",
   "metadata": {},
   "outputs": [
    {
     "data": {
      "text/plain": [
       "player_id\n",
       "43325         0.500\n",
       "51547         0.392\n",
       "82510         0.404\n",
       "92277         0.380\n",
       "102022        0.530\n",
       "              ...  \n",
       "1191218417    0.450\n",
       "1196308432    0.350\n",
       "1212095786    0.370\n",
       "1218500425    0.490\n",
       "1265068262    0.450\n",
       "Name: winrate, Length: 2606, dtype: float64"
      ]
     },
     "execution_count": 8,
     "metadata": {},
     "output_type": "execute_result"
    }
   ],
   "source": [
    "# рассчитаем винрейты для каждого из игроков\n",
    "winrate_dist = real_games.groupby('player_id').apply(lambda df: \n",
    "                                   df['win_or_loose'].where(df['win_or_loose'] == 1).count() / \n",
    "                                   df['win_or_loose'].count()).round(3)\n",
    "winrate_dist.name = 'winrate'\n",
    "winrate_dist"
   ]
  },
  {
   "cell_type": "code",
   "execution_count": 9,
   "id": "3affef29",
   "metadata": {},
   "outputs": [
    {
     "data": {
      "text/plain": [
       "((array([-3.46415912, -3.21795735, -3.08167096, ...,  3.08167096,\n",
       "          3.21795735,  3.46415912]),\n",
       "  array([0.28, 0.28, 0.29, ..., 0.6 , 0.61, 0.61])),\n",
       " (0.05115376803375499, 0.45114773599386043, 0.9982875901422822))"
      ]
     },
     "execution_count": 9,
     "metadata": {},
     "output_type": "execute_result"
    },
    {
     "data": {
      "image/png": "[encoded data removed]",
      "text/plain": [
       "<Figure size 432x288 with 1 Axes>"
      ]
     },
     "metadata": {
      "needs_background": "light"
     },
     "output_type": "display_data"
    }
   ],
   "source": [
    "probplot(winrate_dist, dist='norm', plot=sns.mpl.pyplot)"
   ]
  },
  {
   "cell_type": "markdown",
   "id": "e8c7d424",
   "metadata": {},
   "source": [
    "&emsp; Не смотря на то что средний винрейт игроков ~ 45%, распределение винрейтов по игрокам близко к нормальному, что является хорошим признаком нашей выборки.\n",
    "\n",
    "&emsp; Нормальное распределение говорит нам о **смещенном** винрейте в нашей выборке, в то время как само распределение не является сильно искаженным.\n",
    "\n",
    "&emsp; Если бы часть данных были бы отброшены, чтобы получить средний винрейт близкий к 50% это сильно бы исказило данные. "
   ]
  },
  {
   "cell_type": "code",
   "execution_count": 10,
   "id": "e43f5cc3",
   "metadata": {},
   "outputs": [
    {
     "data": {
      "text/plain": [
       "<AxesSubplot:xlabel='streak lenght', ylabel='dist'>"
      ]
     },
     "execution_count": 10,
     "metadata": {},
     "output_type": "execute_result"
    },
    {
     "data": {
      "image/png": "[encoded data removed]",
      "text/plain": [
       "<Figure size 576x288 with 1 Axes>"
      ]
     },
     "metadata": {
      "needs_background": "light"
     },
     "output_type": "display_data"
    }
   ],
   "source": [
    "# рассчитаем серии для наших реальных игр и сравним графические полученное распределение с нашим теоретическим\n",
    "real_games['streak'] = calc_streak(real_games)\n",
    "(theory_games['streak'].value_counts() / theory_games['streak'].count()).plot(xlabel='streak lenght', ylabel='dist', figsize=[8,4])\n",
    "(real_games['streak'].value_counts() / real_games['streak'].count()).plot(xlabel='streak lenght', ylabel='dist', figsize=[8,4])"
   ]
  },
  {
   "cell_type": "markdown",
   "id": "9dd9f580",
   "metadata": {},
   "source": [
    "&emsp; Как мы видим, теоретическое  и реальное распределение довольно близки друг к другу. Используем t-тест Уэлча и U-критерий Манна-Уитни для оценки наших выборок. "
   ]
  },
  {
   "cell_type": "code",
   "execution_count": 11,
   "id": "dee1a510",
   "metadata": {},
   "outputs": [
    {
     "name": "stdout",
     "output_type": "stream",
     "text": [
      "1     65155\n",
      "2     64126\n",
      "3     47871\n",
      "4     32080\n",
      "5     20435\n",
      "6     12504\n",
      "7      7161\n",
      "8      4648\n",
      "9      2916\n",
      "10     1510\n",
      "11      902\n",
      "12      516\n",
      "13      377\n",
      "14      154\n",
      "15      135\n",
      "16       64\n",
      "17       68\n",
      "18       36\n",
      "Name: streak, dtype: int64\n",
      "1     65944\n",
      "2     64138\n",
      "3     48168\n",
      "4     31936\n",
      "5     20185\n",
      "6     12750\n",
      "7      7357\n",
      "8      4216\n",
      "9      2493\n",
      "10     1600\n",
      "11      792\n",
      "12      444\n",
      "13      247\n",
      "14      168\n",
      "15      105\n",
      "16       80\n",
      "17       17\n",
      "18       18\n",
      "Name: streak, dtype: int64\n",
      "Ttest_indResult(statistic=5.687284423800404, pvalue=1.2914415107879642e-08)\n",
      "MannwhitneyuResult(statistic=34167923235.0, pvalue=0.00022172123277815797)\n"
     ]
    }
   ],
   "source": [
    "# для проведения t-теста я отбрасываю хвосты экстремальных значений, \n",
    "# где смоделированные значения сильно отличаются от теоретических/расчетных\n",
    "df1 = real_games.streak\n",
    "df2 = theory_games.streak\n",
    "print(df1.value_counts().sort_index())\n",
    "print(df2.value_counts().sort_index())\n",
    "print(ttest_ind(df1, df2, equal_var=False))\n",
    "print(mannwhitneyu(df1, df2))"
   ]
  },
  {
   "cell_type": "code",
   "execution_count": 12,
   "id": "413b3af5",
   "metadata": {},
   "outputs": [
    {
     "name": "stdout",
     "output_type": "stream",
     "text": [
      "1.0     65155\n",
      "2.0     64126\n",
      "3.0     47871\n",
      "4.0     32080\n",
      "5.0     20435\n",
      "6.0     12504\n",
      "7.0      7161\n",
      "8.0      4648\n",
      "9.0      2916\n",
      "10.0     1510\n",
      "11.0      902\n",
      "12.0      516\n",
      "13.0      377\n",
      "14.0      154\n",
      "15.0      135\n",
      "16.0       64\n",
      "Name: streak, dtype: int64\n",
      "1.0     65944\n",
      "2.0     64138\n",
      "3.0     48168\n",
      "4.0     31936\n",
      "5.0     20185\n",
      "6.0     12750\n",
      "7.0      7357\n",
      "8.0      4216\n",
      "9.0      2493\n",
      "10.0     1600\n",
      "11.0      792\n",
      "12.0      444\n",
      "13.0      247\n",
      "14.0      168\n",
      "15.0      105\n",
      "16.0       80\n",
      "Name: streak, dtype: int64\n",
      "Ttest_indResult(statistic=5.069746055173971, pvalue=3.9848281401084906e-07)\n",
      "MannwhitneyuResult(statistic=34140816929.0, pvalue=0.0004227345788406299)\n"
     ]
    }
   ],
   "source": [
    "# для проведения t-теста я отбрасываю хвосты экстремальных значений, \n",
    "# где смоделированные значения сильно отличаются от теоретических/расчетных\n",
    "df1 = real_games.where(real_games['streak'] <= 16).streak.dropna()\n",
    "df2 = theory_games.where(theory_games['streak'] <= 16).streak.dropna()\n",
    "print(df1.value_counts().sort_index())\n",
    "print(df2.value_counts().sort_index())\n",
    "print(ttest_ind(df1, df2, equal_var=False))\n",
    "print(mannwhitneyu(df1, df2))"
   ]
  },
  {
   "cell_type": "code",
   "execution_count": 13,
   "id": "7606d7d1",
   "metadata": {
    "scrolled": false
   },
   "outputs": [
    {
     "name": "stdout",
     "output_type": "stream",
     "text": [
      "1.0     65155\n",
      "2.0     64126\n",
      "3.0     47871\n",
      "4.0     32080\n",
      "5.0     20435\n",
      "6.0     12504\n",
      "7.0      7161\n",
      "8.0      4648\n",
      "9.0      2916\n",
      "10.0     1510\n",
      "11.0      902\n",
      "12.0      516\n",
      "Name: streak, dtype: int64\n",
      "1.0     65944\n",
      "2.0     64138\n",
      "3.0     48168\n",
      "4.0     31936\n",
      "5.0     20185\n",
      "6.0     12750\n",
      "7.0      7357\n",
      "8.0      4216\n",
      "9.0      2493\n",
      "10.0     1600\n",
      "11.0      792\n",
      "12.0      444\n",
      "Name: streak, dtype: int64\n",
      "Ttest_indResult(statistic=4.362263738179348, pvalue=1.2874829833868006e-05)\n",
      "MannwhitneyuResult(statistic=33950803653.0, pvalue=0.0012817566612735288)\n"
     ]
    }
   ],
   "source": [
    "# для проведения t-теста я отбрасываю хвосты экстремальных значений, \n",
    "# где смоделированные значения сильно отличаются от теоретических/расчетных\n",
    "df1 = real_games.where(real_games['streak'] <= 12).streak.dropna()\n",
    "df2 = theory_games.where(theory_games['streak'] <= 12).streak.dropna()\n",
    "print(df1.value_counts().sort_index())\n",
    "print(df2.value_counts().sort_index())\n",
    "print(ttest_ind(df1, df2, equal_var=False))\n",
    "print(mannwhitneyu(df1, df2))"
   ]
  },
  {
   "cell_type": "code",
   "execution_count": 14,
   "id": "c97ef07d",
   "metadata": {},
   "outputs": [
    {
     "name": "stdout",
     "output_type": "stream",
     "text": [
      "1.0    65155\n",
      "2.0    64126\n",
      "3.0    47871\n",
      "4.0    32080\n",
      "5.0    20435\n",
      "6.0    12504\n",
      "7.0     7161\n",
      "8.0     4648\n",
      "Name: streak, dtype: int64\n",
      "1.0    65944\n",
      "2.0    64138\n",
      "3.0    48168\n",
      "4.0    31936\n",
      "5.0    20185\n",
      "6.0    12750\n",
      "7.0     7357\n",
      "8.0     4216\n",
      "Name: streak, dtype: int64\n",
      "Ttest_indResult(statistic=2.2301721536306576, pvalue=0.025736450698225423)\n",
      "MannwhitneyuResult(statistic=32447080403.0, pvalue=0.04341037845532396)\n"
     ]
    }
   ],
   "source": [
    "# для проведения t-теста я отбрасываю хвосты экстремальных значений, \n",
    "# где смоделированные значения сильно отличаются от теоретических/расчетных\n",
    "df1 = real_games.where(real_games['streak'] <= 8).streak.dropna()\n",
    "df2 = theory_games.where(theory_games['streak'] <= 8).streak.dropna()\n",
    "print(df1.value_counts().sort_index())\n",
    "print(df2.value_counts().sort_index())\n",
    "print(ttest_ind(df1, df2, equal_var=False))\n",
    "print(mannwhitneyu(df1, df2))"
   ]
  },
  {
   "cell_type": "markdown",
   "id": "7ac0c108",
   "metadata": {},
   "source": [
    "## Статистические тесты, выводы\n",
    "&emsp; Как мы видим из приведенных выше тестов, при отсечении хвостов в наших выборках, p-value сильно увеличивается. Экстремальные значения для серии побед или поражений сильно подвержены случайности, в то время как на превалирующем массиве данных не наблюдается статистически значимых различий, что могло бы свидетельствовать о “системе 50%”. \n",
    "\n",
    "&emsp; Вероятно представленная теоретическая модель не описывает реальную совокупность рейтинговых игр в должной мере, но и основания для отвержения нулевой гипотезы недостаточны."
   ]
  },
  {
   "cell_type": "markdown",
   "id": "6d8c8028",
   "metadata": {},
   "source": [
    "## Итоги исследования\n",
    "\n",
    "&emsp; Данное исследование не позволяет сделать каких-то конкретных выводов. Явные признаки наличия системы 50% не обнаружены, но и для того чтобы утверждать ее полное отсутствие у меня не хватает оснований.\n",
    "\n",
    "&emsp; Как и во многих исследовательских работах - отрицательный результат, тоже результат. Вероятно выбранный мной метод выявления системы 50% можно доработать, улучив теоретическую модель, проведя исследования на других данных, или устранив критические ошибки данного исследования.\n",
    "\n",
    "&emsp; Вероятно значительное увеличение выборки устранит проблему случайных хвостов. Для выбранного метода исследования выборка оказалось недостаточно большой, на мой взгляд. \n",
    "\n",
    "&emsp; Возможно оценка длины серии побед - ложный путь, который не может дать явных статистических результатов. Перспективным направлением на мой взгляд может оказаться выявления общей \"функции\" для скользящего среднего винрейта игроков. Этот метод может оказаться более точным и менее требовательным к данным, но является гораздо более трудоемким. \n"
   ]
  },
  {
   "cell_type": "code",
   "execution_count": null,
   "id": "93a1ade0",
   "metadata": {},
   "outputs": [],
   "source": []
  }
 ],
 "metadata": {
  "kernelspec": {
   "display_name": "Python 3 (ipykernel)",
   "language": "python",
   "name": "python3"
  },
  "language_info": {
   "codemirror_mode": {
    "name": "ipython",
    "version": 3
   },
   "file_extension": ".py",
   "mimetype": "text/x-python",
   "name": "python",
   "nbconvert_exporter": "python",
   "pygments_lexer": "ipython3",
   "version": "3.9.2"
  }
 },
 "nbformat": 4,
 "nbformat_minor": 5
}
